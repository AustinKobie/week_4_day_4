{
 "cells": [
  {
   "cell_type": "markdown",
   "metadata": {},
   "source": [
    "# Asymptotic Analysis & Data Structures\n",
    "\n",
    "### Topics to discuss today:\n",
    "\n",
    "<ul>\n",
    "    <li>What is Asymptotic Analysis?</li>\n",
    "    <li>Classifying time complexities</li>\n",
    "    <li>Classifying space complexities</li>\n",
    "    <li>Implementing a LinkedList</li>\n",
    "</ul>"
   ]
  },
  {
   "cell_type": "markdown",
   "metadata": {},
   "source": [
    "### What is Asymptotic Analysis?\n",
    "\n",
    "Asymptotic analysis refers to setting mathematical bounds of an algorithms run-time performance. Asymptotic analysis is used for estimating time and space complexity.\n",
    "\n",
    "There are three metrics we measure:\n",
    "<ul>\n",
    "<li><b>Best Case</b> − Minimum time required for running.</li>\n",
    "<li><b>Average Case</b> − Average time required for running.</li>\n",
    "<li><b>Worst Case</b> − Maximum time required for running.</li>\n",
    "</ul>\n",
    "\n",
    "Here are the two major asymptotic notations that we'll be focusing on today:\n",
    "<ul>\n",
    "<li>Ο Notation (Big O Notation)</li>\n",
    "<li>Ω Notation (Omega Notation)</li>\n",
    "</ul>\n",
    "\n",
    "#### Big O Notation\n",
    "Big O notation expresses the <b>upper bound</b> of an algorithm's execution time. This measures the <b>worst case</b> time complexity.\n",
    "\n",
    "#### Omega Notation\n",
    "Omega notation expresses the <b>lower bound</b> of an algorithm's execution time. This measures the <b>best case</b> time complexity."
   ]
  },
  {
   "cell_type": "markdown",
   "metadata": {},
   "source": [
    "\n",
    "\n",
    "<table style=\"text-align:left;\" class=\"table table-bordered\">\n",
    "    <thead>\n",
    "        <tr>\n",
    "            <th>Name</th>\n",
    "            <th>Time Complexity</th>\n",
    "        </tr>\n",
    "    </thead>\n",
    "\n",
    "  <tr>\n",
    "<td>constant</td>\n",
    "<td>Ο(1)</td>\n",
    "</tr>\n",
    "<tr>\n",
    "<td>logarithmic</td>\n",
    "<td>Ο(log n)</td>\n",
    "</tr>\n",
    "<tr>\n",
    "<td>linear</td>\n",
    "<td>Ο(n)</td>\n",
    "</tr>\n",
    "<tr>\n",
    "<td>n log n</td>\n",
    "<td>Ο(n log n)</td>\n",
    "</tr>\n",
    "<tr>\n",
    "<td>quadratic</td>\n",
    "<td>Ο(n<sup>2</sup>)</td>\n",
    "</tr>\n",
    "<tr>\n",
    "<td>cubic</td>\n",
    "<td>Ο(n<sup>3</sup>)</td>\n",
    "</tr>\n",
    "<tr>\n",
    "<td>polynomial</td>\n",
    "<td>n<sup>Ο(1)</sup></td>\n",
    "</tr>\n",
    "<tr>\n",
    "<td>exponential</td>\n",
    "<td>2<sup>Ο(n)</sup></td>\n",
    "</tr>\n",
    "</table>\n",
    "\n",
    "Extra resources:\n",
    "https://www.youtube.com/watch?v=0oDAlMwTrLo"
   ]
  },
  {
   "cell_type": "markdown",
   "metadata": {},
   "source": [
    "##### O(1) Example\n",
    "No matter the size of the input data, the execution time will always be the same"
   ]
  },
  {
   "cell_type": "code",
   "execution_count": 2,
   "metadata": {},
   "outputs": [],
   "source": [
    "def add(a, b):\n",
    "    return a + b"
   ]
  },
  {
   "cell_type": "code",
   "execution_count": 3,
   "metadata": {},
   "outputs": [
    {
     "name": "stdout",
     "output_type": "stream",
     "text": [
      "96.5 ns ± 4.76 ns per loop (mean ± std. dev. of 7 runs, 10,000,000 loops each)\n"
     ]
    }
   ],
   "source": [
    "%timeit add(10,10)"
   ]
  },
  {
   "cell_type": "code",
   "execution_count": 4,
   "metadata": {},
   "outputs": [
    {
     "name": "stdout",
     "output_type": "stream",
     "text": [
      "113 ns ± 2.32 ns per loop (mean ± std. dev. of 7 runs, 10,000,000 loops each)\n"
     ]
    }
   ],
   "source": [
    "%timeit add(2000000, 32312333)"
   ]
  },
  {
   "cell_type": "markdown",
   "metadata": {},
   "source": [
    "##### O(n) Example\n",
    "The execution time increases linearly with the length of the input. For each growth in size of the input, the time it takes to run increases by the same amount."
   ]
  },
  {
   "cell_type": "code",
   "execution_count": 5,
   "metadata": {},
   "outputs": [],
   "source": [
    "def my_sum(a_list):\n",
    "    result = 0\n",
    "    \n",
    "    for item in a_list:\n",
    "        result += item\n",
    "        \n",
    "    return result"
   ]
  },
  {
   "cell_type": "code",
   "execution_count": 6,
   "metadata": {},
   "outputs": [
    {
     "name": "stdout",
     "output_type": "stream",
     "text": [
      "386 ns ± 7.79 ns per loop (mean ± std. dev. of 7 runs, 1,000,000 loops each)\n"
     ]
    }
   ],
   "source": [
    "%timeit my_sum([1,2,3,4])"
   ]
  },
  {
   "cell_type": "code",
   "execution_count": 7,
   "metadata": {},
   "outputs": [
    {
     "name": "stdout",
     "output_type": "stream",
     "text": [
      "597 ns ± 16.6 ns per loop (mean ± std. dev. of 7 runs, 1,000,000 loops each)\n"
     ]
    }
   ],
   "source": [
    "%timeit my_sum([1,2,3,4,5,6,7,8])"
   ]
  },
  {
   "cell_type": "code",
   "execution_count": 13,
   "metadata": {},
   "outputs": [],
   "source": [
    "# O(n + n) => 0(2n) => 0(n)\n",
    "def sum_product(a_list):\n",
    "    sum_result = 0\n",
    "    # O(n)\n",
    "    for item in a_list:\n",
    "        sum_result += item\n",
    "        \n",
    "    product_result = 1\n",
    "    # o(n)\n",
    "    for item in a_list:\n",
    "        product_result *= item\n",
    "        \n",
    "    return (sum_result, product_result)"
   ]
  },
  {
   "cell_type": "markdown",
   "metadata": {},
   "source": [
    "##### O(log(n))\n",
    "A logarithmic time complexity increases linearly as the input increases exponentially. Usually this occurs when we decrease the size of our input as we move through our algorithm. It is O(log(n)) when we do divide and conquer type of algorithms like binary search. \n",
    "\n",
    "Additional Explanations:\n",
    "https://www.youtube.com/watch?v=wjDY5RbILno\n"
   ]
  },
  {
   "cell_type": "code",
   "execution_count": 16,
   "metadata": {},
   "outputs": [
    {
     "name": "stdout",
     "output_type": "stream",
     "text": [
      "Target 4 found at index 3\n",
      "Target 7 found at index 6\n",
      " Target 8 was not found\n"
     ]
    }
   ],
   "source": [
    "# Binary Search on sorted list\n",
    "\"\"\"\n",
    "Looked at both ends\n",
    "checked middle\n",
    "if higher\n",
    "move one end\n",
    "rechecked middle\n",
    "until target\n",
    "\"\"\"\n",
    "\n",
    "def binary_search(alist, target):\n",
    "    left, right=0, len(alist) - 1\n",
    "    while left <= right:\n",
    "        middle = (left + right) // 2\n",
    "        if alist[middle] == target:\n",
    "            return f'Target {target} found at index {middle}'\n",
    "        elif alist [middle] > target:\n",
    "            right = middle - 1\n",
    "        else:\n",
    "            left = middle + 1\n",
    "    return f' Target {target} was not found'\n",
    "print(binary_search([1,2,3,4,5,6,7], 4))\n",
    "print(binary_search([1,2,3,4,5,6,7], 7))\n",
    "print(binary_search([1,2,3,4,5,6,7], 8))        "
   ]
  },
  {
   "cell_type": "markdown",
   "metadata": {},
   "source": [
    "###### O(n^2) Example\n",
    "When an algorithm needs to perform a linear time operation for each value in the input data"
   ]
  },
  {
   "cell_type": "code",
   "execution_count": 10,
   "metadata": {},
   "outputs": [],
   "source": [
    "num_list_1 = [1,2,3,4]\n",
    "num_list_2 = [5,3,21,1]\n",
    "\n",
    "def build_combos(list_a, list_b):\n",
    "    result_list = []\n",
    "    \n",
    "    for item_a in list_a:\n",
    "        for item_b in list_b:\n",
    "            result_list.append([item_a, item_b])\n",
    "            \n",
    "    return result_list"
   ]
  },
  {
   "cell_type": "code",
   "execution_count": 11,
   "metadata": {},
   "outputs": [
    {
     "data": {
      "text/plain": [
       "[[1, 5],\n",
       " [1, 3],\n",
       " [1, 21],\n",
       " [1, 1],\n",
       " [2, 5],\n",
       " [2, 3],\n",
       " [2, 21],\n",
       " [2, 1],\n",
       " [3, 5],\n",
       " [3, 3],\n",
       " [3, 21],\n",
       " [3, 1],\n",
       " [4, 5],\n",
       " [4, 3],\n",
       " [4, 21],\n",
       " [4, 1]]"
      ]
     },
     "execution_count": 11,
     "metadata": {},
     "output_type": "execute_result"
    }
   ],
   "source": [
    "build_combos(num_list_1, num_list_2)"
   ]
  },
  {
   "cell_type": "markdown",
   "metadata": {},
   "source": [
    "### In-Class Exercise\n",
    "In a comment in the following three cells, classify each algorithm into one of the time complexities discussed above."
   ]
  },
  {
   "cell_type": "code",
   "execution_count": 12,
   "metadata": {},
   "outputs": [],
   "source": [
    "# o(n^2)\n",
    "def two_sum_loops(nums, target):\n",
    "    for i, num in enumerate(nums):\n",
    "        for j, num2 in enumerate(nums[i + 1:]):\n",
    "            if target - num == num2:\n",
    "                return [i,j+i+1]"
   ]
  },
  {
   "cell_type": "code",
   "execution_count": 3,
   "metadata": {},
   "outputs": [],
   "source": [
    "#o(n)\n",
    "def two_sum(nums, target):\n",
    "    d={}\n",
    "    for i, num in enumerate(nums):\n",
    "        if target - num in d:\n",
    "            return [d[target-num],i]\n",
    "        d[num]=i\n",
    "    return -1"
   ]
  },
  {
   "cell_type": "code",
   "execution_count": 4,
   "metadata": {},
   "outputs": [],
   "source": [
    "#o(n)\n",
    "def check_if_num_in_list(a_list, value):\n",
    "    return value in a_list"
   ]
  },
  {
   "cell_type": "code",
   "execution_count": null,
   "metadata": {},
   "outputs": [],
   "source": [
    "#o(n^2)\n",
    "def two_sum_loops(nums, target):\n",
    "    for i, num in enumerate(nums):\n",
    "        for j, num2 in enumerate(nums[i + 1:]):\n",
    "            if target - num == num2:\n",
    "                print [i,j+i+1]\n",
    "                \n",
    "        for item in nums:\n",
    "            print(item)"
   ]
  },
  {
   "cell_type": "markdown",
   "metadata": {},
   "source": [
    "## Space Complexity\n",
    "Space complexity refers to the total amount of memory space that is consumed by an algorithm. This value includes both any new values created as well as well as input values\n",
    "\n",
    "We'll use Big O notation for space complexity as well. In this case, Big O gives the worst-case of an algorithm’s growth rate. \n",
    "\n",
    "\"The space this algorithm takes will grow no more quickly than this, but it could grow more slowly.\""
   ]
  },
  {
   "cell_type": "markdown",
   "metadata": {},
   "source": [
    "###### O(1) Example"
   ]
  },
  {
   "cell_type": "code",
   "execution_count": 17,
   "metadata": {},
   "outputs": [],
   "source": [
    "def add(num1, num2):\n",
    "    return num1 + num2"
   ]
  },
  {
   "cell_type": "code",
   "execution_count": 18,
   "metadata": {},
   "outputs": [
    {
     "name": "stdout",
     "output_type": "stream",
     "text": [
      "21\n"
     ]
    }
   ],
   "source": [
    "def my_sum(a_list):\n",
    "    result = 0\n",
    "    for item in a_list:\n",
    "        result += item\n",
    "        \n",
    "    return result\n",
    "\n",
    "numbers = [1, 2, 3, 4, 5, 6]\n",
    "\n",
    "print(my_sum(numbers))"
   ]
  },
  {
   "cell_type": "markdown",
   "metadata": {},
   "source": [
    "###### O(n) Example\n",
    "Input Space: O(n) <- This comes from aList in the input\n",
    "Auxiliary Space: O(1) <- The only variables created in the function are integers\n",
    "\n",
    "Total Space: O(n + 1) or O(n)"
   ]
  },
  {
   "cell_type": "code",
   "execution_count": 28,
   "metadata": {},
   "outputs": [],
   "source": [
    "from random import randint\n",
    "\n",
    "def build_list(size):\n",
    "    result = []\n",
    "    result_2 = []\n",
    "    \n",
    "    for i in range(size):\n",
    "        result.append(randint(1,100))\n",
    "        result_2.append(randint(101,200))\n",
    "        \n",
    "    return result"
   ]
  },
  {
   "cell_type": "code",
   "execution_count": 29,
   "metadata": {},
   "outputs": [
    {
     "data": {
      "text/plain": [
       "[73, 27, 10, 65, 4, 37, 50, 89, 51, 59]"
      ]
     },
     "execution_count": 29,
     "metadata": {},
     "output_type": "execute_result"
    }
   ],
   "source": [
    "build_list(10)"
   ]
  },
  {
   "cell_type": "code",
   "execution_count": 30,
   "metadata": {},
   "outputs": [
    {
     "data": {
      "text/plain": [
       "[8, 57, 49, 4, 9, 29, 79, 4, 26, 14, 49, 4, 12, 25, 60, 84, 24, 9, 83, 26]"
      ]
     },
     "execution_count": 30,
     "metadata": {},
     "output_type": "execute_result"
    }
   ],
   "source": [
    "build_list(20)"
   ]
  },
  {
   "attachments": {},
   "cell_type": "markdown",
   "metadata": {},
   "source": [
    "# o(n^2)"
   ]
  },
  {
   "cell_type": "code",
   "execution_count": 31,
   "metadata": {},
   "outputs": [
    {
     "data": {
      "text/plain": [
       "[[57, 95, 84, 92, 10, 85, 41, 61, 16, 93],\n",
       " [8, 96, 84, 23, 28, 9, 49, 57, 30, 96],\n",
       " [55, 67, 34, 48, 22, 2, 98, 90, 98, 11],\n",
       " [23, 86, 58, 3, 1, 44, 40, 11, 38, 100],\n",
       " [44, 60, 72, 81, 31, 60, 68, 13, 14, 29],\n",
       " [70, 10, 65, 97, 100, 42, 94, 32, 60, 18],\n",
       " [92, 35, 39, 5, 81, 85, 39, 36, 46, 93],\n",
       " [80, 15, 62, 49, 66, 65, 92, 2, 42, 47],\n",
       " [67, 39, 52, 51, 66, 20, 91, 8, 86, 59],\n",
       " [7, 42, 42, 45, 6, 29, 23, 91, 17, 60]]"
      ]
     },
     "execution_count": 31,
     "metadata": {},
     "output_type": "execute_result"
    }
   ],
   "source": [
    "from random import randint\n",
    "\n",
    "def build_matrix(size):\n",
    "    result = []\n",
    "    \n",
    "    for i in range(size):\n",
    "        inner_list = []\n",
    "        \n",
    "        for j in range(size):\n",
    "            inner_list.append(randint(1,100))\n",
    "            \n",
    "        result.append(inner_list)\n",
    "        \n",
    "    return result\n",
    "\n",
    "build_matrix(10)"
   ]
  },
  {
   "cell_type": "markdown",
   "metadata": {},
   "source": [
    "The recursive calls generate new function calls in the stack. Each call on the stack stores a separate copy of the variables defined in the function. The array is passed by reference so a separate copy of the array is not created for each function call. As we can have O(log(n)) calls to the function, the space complexity of the recursive version should include the O(log(n)) auxiliary space. Hence, the overall space complexity is:\n",
    "\n",
    "Input space: O(n)\n",
    "Auxiliary space: O(log n)\n",
    "\n",
    "Total Space: O(n + log n) OR O(n)"
   ]
  },
  {
   "cell_type": "code",
   "execution_count": null,
   "metadata": {},
   "outputs": [],
   "source": []
  },
  {
   "cell_type": "code",
   "execution_count": null,
   "metadata": {},
   "outputs": [],
   "source": []
  }
 ],
 "metadata": {
  "kernelspec": {
   "display_name": "Python 3",
   "language": "python",
   "name": "python3"
  },
  "language_info": {
   "codemirror_mode": {
    "name": "ipython",
    "version": 3
   },
   "file_extension": ".py",
   "mimetype": "text/x-python",
   "name": "python",
   "nbconvert_exporter": "python",
   "pygments_lexer": "ipython3",
   "version": "3.9.13"
  },
  "vscode": {
   "interpreter": {
    "hash": "35f5a907d9b2e3895f64a49484053d3e8f03b794185843316d220a0a5ea7d2a3"
   }
  }
 },
 "nbformat": 4,
 "nbformat_minor": 2
}
